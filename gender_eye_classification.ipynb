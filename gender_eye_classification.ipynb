{
  "nbformat": 4,
  "nbformat_minor": 5,
  "metadata": {
    "kernelspec": {
      "display_name": "Python 3",
      "language": "python",
      "name": "python3"
    },
    "language_info": {
      "codemirror_mode": {
        "name": "ipython",
        "version": 3
      },
      "file_extension": ".py",
      "mimetype": "text/x-python",
      "name": "python",
      "nbconvert_exporter": "python",
      "pygments_lexer": "ipython3",
      "version": "3.8.8"
    },
    "colab": {
      "name": "gender-eye-classification.ipynb",
      "provenance": []
    },
    "accelerator": "GPU"
  },
  "cells": [
    {
      "cell_type": "code",
      "metadata": {
        "id": "b632bdf0"
      },
      "source": [
        "import opendatasets as od\n",
        "import os\n",
        "import torch\n",
        "import torchvision\n",
        "from torch.utils.data.dataloader import DataLoader\n",
        "from torch.utils.data import random_split\n",
        "import torch.nn as nn\n",
        "import torch.nn.functional as F\n",
        "import matplotlib\n",
        "import matplotlib.pyplot as plt\n",
        "from torchvision.datasets import ImageFolder\n",
        "from torchvision.transforms import ToTensor\n",
        "from torchvision.utils import make_grid\n",
        "import torchvision.transforms as tt\n",
        "\n",
        "%matplotlib inline\n",
        "matplotlib.rcParams['figure.facecolor'] = '#ffffff'"
      ],
      "id": "b632bdf0",
      "execution_count": 212,
      "outputs": []
    },
    {
      "cell_type": "code",
      "metadata": {
        "colab": {
          "base_uri": "https://localhost:8080/"
        },
        "id": "c545dc40",
        "outputId": "23839ef8-8508-497b-ca12-ca42df4383ad"
      },
      "source": [
        "od.download('https://www.kaggle.com/pavelbiz/eyes-rtte')"
      ],
      "id": "c545dc40",
      "execution_count": 3,
      "outputs": [
        {
          "output_type": "stream",
          "text": [
            "Please provide your Kaggle credentials to download this dataset. Learn more: http://bit.ly/kaggle-creds\n",
            "Your Kaggle username: dikshantkalotra\n",
            "Your Kaggle Key: ··········\n",
            "Downloading eyes-rtte.zip to ./eyes-rtte\n"
          ],
          "name": "stdout"
        },
        {
          "output_type": "stream",
          "text": [
            "100%|██████████| 40.4M/40.4M [00:01<00:00, 36.1MB/s]\n"
          ],
          "name": "stderr"
        },
        {
          "output_type": "stream",
          "text": [
            "\n"
          ],
          "name": "stdout"
        }
      ]
    },
    {
      "cell_type": "code",
      "metadata": {
        "colab": {
          "base_uri": "https://localhost:8080/"
        },
        "id": "7112aa22",
        "outputId": "0a5e489d-ea52-4a1e-d3dd-48b21bcbd67f"
      },
      "source": [
        "data_dir = './eyes-rtte'\n",
        "print(os.listdir(data_dir))\n",
        "print('No of female eyes : ',len(os.listdir(data_dir + '/femaleeyes')), ' |||| No of male eyes : ',len(os.listdir(data_dir + '/maleeyes')))"
      ],
      "id": "7112aa22",
      "execution_count": 213,
      "outputs": [
        {
          "output_type": "stream",
          "text": [
            "['maleeyes', 'femaleeyes']\n",
            "No of female eyes :  5202  |||| No of male eyes :  6323\n"
          ],
          "name": "stdout"
        }
      ]
    },
    {
      "cell_type": "code",
      "metadata": {
        "id": "341ae426"
      },
      "source": [
        "dataset = ImageFolder(data_dir, transform = ToTensor())"
      ],
      "id": "341ae426",
      "execution_count": 214,
      "outputs": []
    },
    {
      "cell_type": "code",
      "metadata": {
        "colab": {
          "base_uri": "https://localhost:8080/"
        },
        "id": "ba4ab7bf",
        "outputId": "9c86c62f-63e4-4a49-f9be-78f827998309"
      },
      "source": [
        "dataset.classes"
      ],
      "id": "ba4ab7bf",
      "execution_count": 215,
      "outputs": [
        {
          "output_type": "execute_result",
          "data": {
            "text/plain": [
              "['femaleeyes', 'maleeyes']"
            ]
          },
          "metadata": {},
          "execution_count": 215
        }
      ]
    },
    {
      "cell_type": "code",
      "metadata": {
        "colab": {
          "base_uri": "https://localhost:8080/"
        },
        "id": "b6a7fa2e",
        "outputId": "bb2da99d-8168-4c71-aa8d-62157ae0a077"
      },
      "source": [
        "dataset"
      ],
      "id": "b6a7fa2e",
      "execution_count": 216,
      "outputs": [
        {
          "output_type": "execute_result",
          "data": {
            "text/plain": [
              "Dataset ImageFolder\n",
              "    Number of datapoints: 11525\n",
              "    Root location: ./eyes-rtte\n",
              "    StandardTransform\n",
              "Transform: ToTensor()"
            ]
          },
          "metadata": {},
          "execution_count": 216
        }
      ]
    },
    {
      "cell_type": "code",
      "metadata": {
        "id": "c77299d8"
      },
      "source": [
        "def show_example(img, label):\n",
        "    print('Label : ', dataset.classes[label], '  Image size : ', img.shape)\n",
        "    plt.imshow(img.permute(1,2,0))"
      ],
      "id": "c77299d8",
      "execution_count": 217,
      "outputs": []
    },
    {
      "cell_type": "markdown",
      "metadata": {
        "id": "0aa13e0d"
      },
      "source": [
        "## Images before transforming"
      ],
      "id": "0aa13e0d"
    },
    {
      "cell_type": "code",
      "metadata": {
        "colab": {
          "base_uri": "https://localhost:8080/",
          "height": 284
        },
        "id": "9a182c7d",
        "outputId": "05c298f7-839a-4b7a-f834-57d9e271351b"
      },
      "source": [
        "show_example(*dataset[0])"
      ],
      "id": "9a182c7d",
      "execution_count": 218,
      "outputs": [
        {
          "output_type": "stream",
          "text": [
            "Label :  femaleeyes   Image size :  torch.Size([3, 53, 53])\n"
          ],
          "name": "stdout"
        },
        {
          "output_type": "display_data",
          "data": {
            "image/png": "[encoded data removed]",
            "text/plain": [
              "<Figure size 432x288 with 1 Axes>"
            ]
          },
          "metadata": {}
        }
      ]
    },
    {
      "cell_type": "code",
      "metadata": {
        "colab": {
          "base_uri": "https://localhost:8080/",
          "height": 284
        },
        "id": "5674dd2a",
        "outputId": "e7566a37-e47e-4e6e-9b2e-cda1cc104f7c"
      },
      "source": [
        "show_example(*dataset[10011])"
      ],
      "id": "5674dd2a",
      "execution_count": 219,
      "outputs": [
        {
          "output_type": "stream",
          "text": [
            "Label :  maleeyes   Image size :  torch.Size([3, 48, 48])\n"
          ],
          "name": "stdout"
        },
        {
          "output_type": "display_data",
          "data": {
            "image/png": "[encoded data removed]",
            "text/plain": [
              "<Figure size 432x288 with 1 Axes>"
            ]
          },
          "metadata": {}
        }
      ]
    },
    {
      "cell_type": "code",
      "metadata": {
        "id": "76b9f0fd"
      },
      "source": [
        "def lowest_size(dataset):\n",
        "    lowest_x, lowest_y = 100000 , 100000\n",
        "    for img, label in dataset:\n",
        "        if img.shape[1] < lowest_x:\n",
        "            lowest_x = img.shape[1]\n",
        "        if img.shape[2] < lowest_y:\n",
        "            lowest_y = img.shape[2]\n",
        "    return lowest_x, lowest_y"
      ],
      "id": "76b9f0fd",
      "execution_count": 220,
      "outputs": []
    },
    {
      "cell_type": "code",
      "metadata": {
        "colab": {
          "base_uri": "https://localhost:8080/"
        },
        "id": "8e2ddd41",
        "outputId": "aaabdd65-a403-4cb1-b04e-faf2da8e0dc7"
      },
      "source": [
        "print(lowest_size(dataset))"
      ],
      "id": "8e2ddd41",
      "execution_count": 221,
      "outputs": [
        {
          "output_type": "stream",
          "text": [
            "(41, 41)\n"
          ],
          "name": "stdout"
        }
      ]
    },
    {
      "cell_type": "code",
      "metadata": {
        "id": "a192e287"
      },
      "source": [
        "stats = ((0.4914, 0.4822, 0.4465), (0.2023, 0.1994, 0.2010))\n",
        "dataset = ImageFolder(data_dir, transform = tt.Compose([tt.RandomCrop(32, padding=4, padding_mode='reflect'), \n",
        "                                                        tt.RandomHorizontalFlip(), \n",
        "                                                        tt.ToTensor(), \n",
        "                                                        tt.Normalize(*stats,inplace=True)]))"
      ],
      "id": "a192e287",
      "execution_count": 222,
      "outputs": []
    },
    {
      "cell_type": "markdown",
      "metadata": {
        "id": "a32c6c03"
      },
      "source": [
        "## Images after transforming"
      ],
      "id": "a32c6c03"
    },
    {
      "cell_type": "code",
      "metadata": {
        "colab": {
          "base_uri": "https://localhost:8080/",
          "height": 300
        },
        "id": "49b5cc83",
        "outputId": "70844f20-ee78-4960-81c0-330d04a079be"
      },
      "source": [
        "show_example(*dataset[11])"
      ],
      "id": "49b5cc83",
      "execution_count": 223,
      "outputs": [
        {
          "output_type": "stream",
          "text": [
            "Clipping input data to the valid range for imshow with RGB data ([0..1] for floats or [0..255] for integers).\n"
          ],
          "name": "stderr"
        },
        {
          "output_type": "stream",
          "text": [
            "Label :  femaleeyes   Image size :  torch.Size([3, 32, 32])\n"
          ],
          "name": "stdout"
        },
        {
          "output_type": "display_data",
          "data": {
            "image/png": "[encoded data removed]",
            "text/plain": [
              "<Figure size 432x288 with 1 Axes>"
            ]
          },
          "metadata": {}
        }
      ]
    },
    {
      "cell_type": "code",
      "metadata": {
        "colab": {
          "base_uri": "https://localhost:8080/",
          "height": 300
        },
        "id": "52d4be3a",
        "outputId": "277749ef-68b4-4c2e-f292-12e65996eb00"
      },
      "source": [
        "show_example(*dataset[10001])"
      ],
      "id": "52d4be3a",
      "execution_count": 224,
      "outputs": [
        {
          "output_type": "stream",
          "text": [
            "Clipping input data to the valid range for imshow with RGB data ([0..1] for floats or [0..255] for integers).\n"
          ],
          "name": "stderr"
        },
        {
          "output_type": "stream",
          "text": [
            "Label :  maleeyes   Image size :  torch.Size([3, 32, 32])\n"
          ],
          "name": "stdout"
        },
        {
          "output_type": "display_data",
          "data": {
            "image/png": "[encoded data removed]",
            "text/plain": [
              "<Figure size 432x288 with 1 Axes>"
            ]
          },
          "metadata": {}
        }
      ]
    },
    {
      "cell_type": "code",
      "metadata": {
        "colab": {
          "base_uri": "https://localhost:8080/"
        },
        "id": "09ea3c7f",
        "outputId": "80fb83c6-8dbd-40a3-ec38-32c55cd43ad0"
      },
      "source": [
        "valid_size = int(len(dataset)*0.25)\n",
        "test_size = int(valid_size * 0.01)\n",
        "train_size = len(dataset) - valid_size - test_size\n",
        "\n",
        "print('Training Size : ',train_size,'\\nValidation Size : ',valid_size, '\\nTesting Size : ', test_size)"
      ],
      "id": "09ea3c7f",
      "execution_count": 225,
      "outputs": [
        {
          "output_type": "stream",
          "text": [
            "Training Size :  8616 \n",
            "Validation Size :  2881 \n",
            "Testing Size :  28\n"
          ],
          "name": "stdout"
        }
      ]
    },
    {
      "cell_type": "code",
      "metadata": {
        "colab": {
          "base_uri": "https://localhost:8080/"
        },
        "id": "693ff86e",
        "outputId": "1ebec818-1b5f-413d-d81b-5e06cf13df59"
      },
      "source": [
        "train_ds, valid_ds, test_ds = random_split(dataset, [train_size, valid_size, test_size])\n",
        "len(train_ds), len(valid_ds), len(test_ds)"
      ],
      "id": "693ff86e",
      "execution_count": 226,
      "outputs": [
        {
          "output_type": "execute_result",
          "data": {
            "text/plain": [
              "(8616, 2881, 28)"
            ]
          },
          "metadata": {},
          "execution_count": 226
        }
      ]
    },
    {
      "cell_type": "code",
      "metadata": {
        "id": "387045e7"
      },
      "source": [
        "batch_size = 128"
      ],
      "id": "387045e7",
      "execution_count": 130,
      "outputs": []
    },
    {
      "cell_type": "code",
      "metadata": {
        "id": "7e7ab49d"
      },
      "source": [
        "train_dl = DataLoader(train_ds, batch_size, shuffle=True, num_workers=2, pin_memory=True)\n",
        "valid_dl = DataLoader(valid_ds, batch_size*2, num_workers=2, pin_memory=True)"
      ],
      "id": "7e7ab49d",
      "execution_count": 133,
      "outputs": []
    },
    {
      "cell_type": "code",
      "metadata": {
        "id": "4a57a93d"
      },
      "source": [
        "class ImageClassificationBase(nn.Module):\n",
        "    def training_step(self, batch):\n",
        "        images, labels = batch\n",
        "        out = self(images)\n",
        "        loss = F.cross_entropy(out, labels)\n",
        "        return loss\n",
        "    \n",
        "    def validation_step(self, batch):\n",
        "        images, labels = batch\n",
        "        out = self(images)\n",
        "        loss = F.cross_entropy(out, labels)\n",
        "        acc = accuracy(out, labels)\n",
        "        return {'val_loss' : loss.detach(), 'val_acc' : acc}\n",
        "    \n",
        "    def validation_epoch_end(self, outputs):\n",
        "        batch_loss = [x['val_loss'] for x in outputs]\n",
        "        epoch_loss = torch.stack(batch_loss).mean()\n",
        "        batch_accs = [x['val_acc'] for x in outputs]\n",
        "        epoch_acc = torch.stack(batch_accs).mean()      \n",
        "        return {'val_loss': epoch_loss.item(), 'val_acc': epoch_acc.item()}\n",
        "    \n",
        "    def epoch_end(self, epoch, result):\n",
        "        print(\"Epoch [{}], train_loss: {:.4f}, val_loss: {:.4f}, val_acc: {:.4f}\".format(\n",
        "            epoch, result['train_loss'], result['val_loss'], result['val_acc']))\n",
        "    \n",
        "def accuracy(outputs, labels):\n",
        "    _, preds = torch.max(outputs, dim=1)\n",
        "    return torch.tensor(torch.sum(preds == labels).item() / len(preds))"
      ],
      "id": "4a57a93d",
      "execution_count": 132,
      "outputs": []
    },
    {
      "cell_type": "code",
      "metadata": {
        "id": "19eb92ef"
      },
      "source": [
        "class Conv2dModel(ImageClassificationBase):\n",
        "    def __init__(self, in_size, out_size):\n",
        "        super().__init__()\n",
        "        self.network = nn.Sequential(\n",
        "            nn.Conv2d(in_size, 32, kernel_size=3, padding=1),\n",
        "            nn.ReLU(),\n",
        "            nn.Conv2d(32, 64, kernel_size=3, stride=1, padding=1),\n",
        "            nn.ReLU(),\n",
        "            nn.MaxPool2d(2, 2), # output: 64 x 16 x 16\n",
        "\n",
        "            nn.Conv2d(64, 128, kernel_size=3, stride=1, padding=1),\n",
        "            nn.ReLU(),\n",
        "            nn.Conv2d(128, 128, kernel_size=3, stride=1, padding=1),\n",
        "            nn.ReLU(),\n",
        "            nn.MaxPool2d(2, 2), # output: 128 x 8 x 8\n",
        "\n",
        "            nn.Conv2d(128, 256, kernel_size=3, stride=1, padding=1),\n",
        "            nn.ReLU(),\n",
        "            nn.Conv2d(256, 256, kernel_size=3, stride=1, padding=1),\n",
        "            nn.ReLU(),\n",
        "            nn.MaxPool2d(2, 2), # output: 256 x 4 x 4\n",
        "\n",
        "            nn.AdaptiveMaxPool2d(1),\n",
        "            nn.Flatten(),\n",
        "            nn.Dropout(0.2),\n",
        "            nn.Linear(256, out_size))\n",
        "        \n",
        "    def forward(self, xb):\n",
        "        return self.network(xb)"
      ],
      "id": "19eb92ef",
      "execution_count": 135,
      "outputs": []
    },
    {
      "cell_type": "code",
      "metadata": {
        "colab": {
          "base_uri": "https://localhost:8080/"
        },
        "id": "31d04516",
        "outputId": "c1900308-ffe8-4b58-b469-5a8787627da4"
      },
      "source": [
        "model = Conv2dModel(3,2)\n",
        "model"
      ],
      "id": "31d04516",
      "execution_count": 136,
      "outputs": [
        {
          "output_type": "execute_result",
          "data": {
            "text/plain": [
              "Conv2dModel(\n",
              "  (network): Sequential(\n",
              "    (0): Conv2d(3, 32, kernel_size=(3, 3), stride=(1, 1), padding=(1, 1))\n",
              "    (1): ReLU()\n",
              "    (2): Conv2d(32, 64, kernel_size=(3, 3), stride=(1, 1), padding=(1, 1))\n",
              "    (3): ReLU()\n",
              "    (4): MaxPool2d(kernel_size=2, stride=2, padding=0, dilation=1, ceil_mode=False)\n",
              "    (5): Conv2d(64, 128, kernel_size=(3, 3), stride=(1, 1), padding=(1, 1))\n",
              "    (6): ReLU()\n",
              "    (7): Conv2d(128, 128, kernel_size=(3, 3), stride=(1, 1), padding=(1, 1))\n",
              "    (8): ReLU()\n",
              "    (9): MaxPool2d(kernel_size=2, stride=2, padding=0, dilation=1, ceil_mode=False)\n",
              "    (10): Conv2d(128, 256, kernel_size=(3, 3), stride=(1, 1), padding=(1, 1))\n",
              "    (11): ReLU()\n",
              "    (12): Conv2d(256, 256, kernel_size=(3, 3), stride=(1, 1), padding=(1, 1))\n",
              "    (13): ReLU()\n",
              "    (14): MaxPool2d(kernel_size=2, stride=2, padding=0, dilation=1, ceil_mode=False)\n",
              "    (15): AdaptiveMaxPool2d(output_size=1)\n",
              "    (16): Flatten(start_dim=1, end_dim=-1)\n",
              "    (17): Dropout(p=0.2, inplace=False)\n",
              "    (18): Linear(in_features=256, out_features=2, bias=True)\n",
              "  )\n",
              ")"
            ]
          },
          "metadata": {},
          "execution_count": 136
        }
      ]
    },
    {
      "cell_type": "code",
      "metadata": {
        "id": "65c1394e"
      },
      "source": [
        "def get_default_device():\n",
        "    if torch.cuda.is_available():\n",
        "        return torch.device('cuda')\n",
        "    else:\n",
        "        return torch.device('cpu')\n",
        "\n",
        "def to_device(data, device):\n",
        "    if isinstance(data, (list,tuple)):\n",
        "        return [to_device(x, device) for x in data]\n",
        "    return data.to(device , non_blocking=True)\n",
        "\n",
        "class DeviceDataLoader():\n",
        "    def __init__(self, dl, device):\n",
        "        self.dl = dl\n",
        "        self.device = device\n",
        "        \n",
        "    def __iter__(self):\n",
        "        for b in self.dl:\n",
        "            yield to_device(b, self.device)\n",
        "    \n",
        "    def __len__(self):\n",
        "        return len(self.dl)"
      ],
      "id": "65c1394e",
      "execution_count": 137,
      "outputs": []
    },
    {
      "cell_type": "code",
      "metadata": {
        "colab": {
          "base_uri": "https://localhost:8080/"
        },
        "id": "b803ac64",
        "outputId": "26c50fdc-5011-4344-a99a-3d37133f3246"
      },
      "source": [
        "device = get_default_device()\n",
        "device"
      ],
      "id": "b803ac64",
      "execution_count": 138,
      "outputs": [
        {
          "output_type": "execute_result",
          "data": {
            "text/plain": [
              "device(type='cuda')"
            ]
          },
          "metadata": {},
          "execution_count": 138
        }
      ]
    },
    {
      "cell_type": "code",
      "metadata": {
        "colab": {
          "base_uri": "https://localhost:8080/"
        },
        "id": "bb285dbe",
        "outputId": "de4b6fe5-e74d-4de1-bff0-ff95c661dd37"
      },
      "source": [
        "train_dl = DeviceDataLoader(train_dl, device)\n",
        "valid_dl = DeviceDataLoader(valid_dl, device)\n",
        "to_device(model, device)"
      ],
      "id": "bb285dbe",
      "execution_count": 139,
      "outputs": [
        {
          "output_type": "execute_result",
          "data": {
            "text/plain": [
              "Conv2dModel(\n",
              "  (network): Sequential(\n",
              "    (0): Conv2d(3, 32, kernel_size=(3, 3), stride=(1, 1), padding=(1, 1))\n",
              "    (1): ReLU()\n",
              "    (2): Conv2d(32, 64, kernel_size=(3, 3), stride=(1, 1), padding=(1, 1))\n",
              "    (3): ReLU()\n",
              "    (4): MaxPool2d(kernel_size=2, stride=2, padding=0, dilation=1, ceil_mode=False)\n",
              "    (5): Conv2d(64, 128, kernel_size=(3, 3), stride=(1, 1), padding=(1, 1))\n",
              "    (6): ReLU()\n",
              "    (7): Conv2d(128, 128, kernel_size=(3, 3), stride=(1, 1), padding=(1, 1))\n",
              "    (8): ReLU()\n",
              "    (9): MaxPool2d(kernel_size=2, stride=2, padding=0, dilation=1, ceil_mode=False)\n",
              "    (10): Conv2d(128, 256, kernel_size=(3, 3), stride=(1, 1), padding=(1, 1))\n",
              "    (11): ReLU()\n",
              "    (12): Conv2d(256, 256, kernel_size=(3, 3), stride=(1, 1), padding=(1, 1))\n",
              "    (13): ReLU()\n",
              "    (14): MaxPool2d(kernel_size=2, stride=2, padding=0, dilation=1, ceil_mode=False)\n",
              "    (15): AdaptiveMaxPool2d(output_size=1)\n",
              "    (16): Flatten(start_dim=1, end_dim=-1)\n",
              "    (17): Dropout(p=0.2, inplace=False)\n",
              "    (18): Linear(in_features=256, out_features=2, bias=True)\n",
              "  )\n",
              ")"
            ]
          },
          "metadata": {},
          "execution_count": 139
        }
      ]
    },
    {
      "cell_type": "code",
      "metadata": {
        "id": "e6938a65"
      },
      "source": [
        "@torch.no_grad()\n",
        "def evaluate(model, val_loader):\n",
        "    model.eval()\n",
        "    outputs = [model.validation_step(batch) for batch in val_loader]\n",
        "    return model.validation_epoch_end(outputs)\n",
        "\n",
        "def fit(epochs, lr, model, train_loader, val_loader, opt_func=torch.optim.SGD):\n",
        "    history = []\n",
        "    optimizer = opt_func(model.parameters(), lr)\n",
        "    for epoch in range(epochs):\n",
        "        # Training Phase \n",
        "        model.train()\n",
        "        train_losses = []\n",
        "        for batch in train_loader:\n",
        "            loss = model.training_step(batch)\n",
        "            train_losses.append(loss)\n",
        "            loss.backward()\n",
        "            optimizer.step()\n",
        "            optimizer.zero_grad()\n",
        "        # Validation phase\n",
        "        result = evaluate(model, val_loader)\n",
        "        result['train_loss'] = torch.stack(train_losses).mean().item()\n",
        "        model.epoch_end(epoch, result)\n",
        "        history.append(result)\n",
        "    return history"
      ],
      "id": "e6938a65",
      "execution_count": 140,
      "outputs": []
    },
    {
      "cell_type": "code",
      "metadata": {
        "colab": {
          "base_uri": "https://localhost:8080/"
        },
        "id": "0331ec77",
        "outputId": "37b4237a-e3c5-4b9a-9211-107ddf4762cb"
      },
      "source": [
        "evaluate(model, valid_dl)"
      ],
      "id": "0331ec77",
      "execution_count": 141,
      "outputs": [
        {
          "output_type": "execute_result",
          "data": {
            "text/plain": [
              "{'val_acc': 0.4486177861690521, 'val_loss': 0.6942799091339111}"
            ]
          },
          "metadata": {},
          "execution_count": 141
        }
      ]
    },
    {
      "cell_type": "code",
      "metadata": {
        "colab": {
          "base_uri": "https://localhost:8080/"
        },
        "id": "PxCM7p9aBbty",
        "outputId": "5a806f5e-cc30-4590-b1dc-884984e48aa1"
      },
      "source": [
        "history = fit(10, 0.0003, model, train_dl, valid_dl, torch.optim.Adam)"
      ],
      "id": "PxCM7p9aBbty",
      "execution_count": 142,
      "outputs": [
        {
          "output_type": "stream",
          "text": [
            "Epoch [0], train_loss: 0.6772, val_loss: 0.6692, val_acc: 0.5937\n",
            "Epoch [1], train_loss: 0.6429, val_loss: 0.6174, val_acc: 0.6551\n",
            "Epoch [2], train_loss: 0.5545, val_loss: 0.5181, val_acc: 0.7471\n",
            "Epoch [3], train_loss: 0.4823, val_loss: 0.4843, val_acc: 0.7504\n",
            "Epoch [4], train_loss: 0.4643, val_loss: 0.4263, val_acc: 0.8040\n",
            "Epoch [5], train_loss: 0.4189, val_loss: 0.3987, val_acc: 0.8152\n",
            "Epoch [6], train_loss: 0.4069, val_loss: 0.3999, val_acc: 0.8270\n",
            "Epoch [7], train_loss: 0.3854, val_loss: 0.4426, val_acc: 0.8039\n",
            "Epoch [8], train_loss: 0.3792, val_loss: 0.3898, val_acc: 0.8262\n",
            "Epoch [9], train_loss: 0.3709, val_loss: 0.3369, val_acc: 0.8525\n"
          ],
          "name": "stdout"
        }
      ]
    },
    {
      "cell_type": "code",
      "metadata": {
        "colab": {
          "base_uri": "https://localhost:8080/"
        },
        "id": "P_S3G5A2B-bM",
        "outputId": "20c547ea-24e7-40e4-8276-bddcc60aff49"
      },
      "source": [
        "history += fit(10, 0.0001, model, train_dl, valid_dl, torch.optim.Adam)"
      ],
      "id": "P_S3G5A2B-bM",
      "execution_count": 143,
      "outputs": [
        {
          "output_type": "stream",
          "text": [
            "Epoch [0], train_loss: 0.3385, val_loss: 0.3805, val_acc: 0.8335\n",
            "Epoch [1], train_loss: 0.3282, val_loss: 0.3276, val_acc: 0.8586\n",
            "Epoch [2], train_loss: 0.3266, val_loss: 0.3610, val_acc: 0.8453\n",
            "Epoch [3], train_loss: 0.3161, val_loss: 0.3073, val_acc: 0.8661\n",
            "Epoch [4], train_loss: 0.3240, val_loss: 0.3275, val_acc: 0.8421\n",
            "Epoch [5], train_loss: 0.3129, val_loss: 0.3165, val_acc: 0.8686\n",
            "Epoch [6], train_loss: 0.3123, val_loss: 0.3090, val_acc: 0.8690\n",
            "Epoch [7], train_loss: 0.3110, val_loss: 0.3166, val_acc: 0.8622\n",
            "Epoch [8], train_loss: 0.3117, val_loss: 0.3070, val_acc: 0.8602\n",
            "Epoch [9], train_loss: 0.3044, val_loss: 0.2925, val_acc: 0.8723\n"
          ],
          "name": "stdout"
        }
      ]
    },
    {
      "cell_type": "code",
      "metadata": {
        "id": "SBeos1KE9xXH"
      },
      "source": [
        "def plot_accuracies(history):\n",
        "    accuracies = [x['val_acc'] for x in history]\n",
        "    plt.plot(accuracies, '-x')\n",
        "    plt.xlabel('epoch')\n",
        "    plt.ylabel('accuracy')\n",
        "    plt.title('Accuracy vs. No. of epochs');"
      ],
      "id": "SBeos1KE9xXH",
      "execution_count": 148,
      "outputs": []
    },
    {
      "cell_type": "code",
      "metadata": {
        "colab": {
          "base_uri": "https://localhost:8080/",
          "height": 295
        },
        "id": "7NxAtiTe9xaq",
        "outputId": "1a4114ee-fbb2-4d88-a418-f962ca2ca5b1"
      },
      "source": [
        "plot_accuracies(history)"
      ],
      "id": "7NxAtiTe9xaq",
      "execution_count": 149,
      "outputs": [
        {
          "output_type": "display_data",
          "data": {
            "image/png": "[encoded data removed]",
            "text/plain": [
              "<Figure size 432x288 with 1 Axes>"
            ]
          },
          "metadata": {
            "needs_background": "light"
          }
        }
      ]
    },
    {
      "cell_type": "code",
      "metadata": {
        "id": "Wu6MfP6Z9xdl"
      },
      "source": [
        "def plot_losses(history):\n",
        "    train_losses = [x.get('train_loss') for x in history]\n",
        "    val_losses = [x['val_loss'] for x in history]\n",
        "    plt.plot(train_losses, '-bx')\n",
        "    plt.plot(val_losses, '-rx')\n",
        "    plt.xlabel('epoch')\n",
        "    plt.ylabel('loss')\n",
        "    plt.legend(['Training', 'Validation'])\n",
        "    plt.title('Loss vs. No. of epochs');"
      ],
      "id": "Wu6MfP6Z9xdl",
      "execution_count": 153,
      "outputs": []
    },
    {
      "cell_type": "code",
      "metadata": {
        "colab": {
          "base_uri": "https://localhost:8080/",
          "height": 295
        },
        "id": "q2P8_tlwDzsy",
        "outputId": "b3c32b8b-52f2-45e6-abac-b8ee834a23dc"
      },
      "source": [
        "plot_losses(history)"
      ],
      "id": "q2P8_tlwDzsy",
      "execution_count": 154,
      "outputs": [
        {
          "output_type": "display_data",
          "data": {
            "image/png": "[encoded data removed]",
            "text/plain": [
              "<Figure size 432x288 with 1 Axes>"
            ]
          },
          "metadata": {
            "needs_background": "light"
          }
        }
      ]
    },
    {
      "cell_type": "markdown",
      "metadata": {
        "id": "tnQb8AEcD8eE"
      },
      "source": [
        "# Testing Phase"
      ],
      "id": "tnQb8AEcD8eE"
    },
    {
      "cell_type": "code",
      "metadata": {
        "colab": {
          "base_uri": "https://localhost:8080/"
        },
        "id": "QM-0BfGRHHyv",
        "outputId": "f72f1369-22eb-4ac9-a7ae-364e1ee3b2d5"
      },
      "source": [
        "mean, std = stats\n",
        "\n",
        "[mean, std]"
      ],
      "id": "QM-0BfGRHHyv",
      "execution_count": 179,
      "outputs": [
        {
          "output_type": "execute_result",
          "data": {
            "text/plain": [
              "[(0.4914, 0.4822, 0.4465), (0.2023, 0.1994, 0.201)]"
            ]
          },
          "metadata": {},
          "execution_count": 179
        }
      ]
    },
    {
      "cell_type": "code",
      "metadata": {
        "id": "E2crGHw7D4OZ"
      },
      "source": [
        "def predict_image(img, model):\n",
        "    xb = to_device(img.unsqueeze(0), device)\n",
        "    # Get predictions from model\n",
        "    yb = model(xb)\n",
        "    # Pick index with highest probability\n",
        "    _, preds  = torch.max(yb, dim=1)\n",
        "    # Retrieve the class label\n",
        "    return preds[0].item()"
      ],
      "id": "E2crGHw7D4OZ",
      "execution_count": 163,
      "outputs": []
    },
    {
      "cell_type": "code",
      "metadata": {
        "colab": {
          "base_uri": "https://localhost:8080/",
          "height": 283
        },
        "id": "mXvgWPqaPjkD",
        "outputId": "08262983-f0f8-41e4-c8e4-1221078edd53"
      },
      "source": [
        "img, label = test_ds[27]\n",
        "plt.imshow(img.permute(1, 2, 0).clamp(0, 1))\n",
        "print('Label:', dataset.classes[label], ', Predicted:', dataset.classes[predict_image(img, model)])"
      ],
      "id": "mXvgWPqaPjkD",
      "execution_count": 274,
      "outputs": [
        {
          "output_type": "stream",
          "text": [
            "Label: femaleeyes , Predicted: femaleeyes\n"
          ],
          "name": "stdout"
        },
        {
          "output_type": "display_data",
          "data": {
            "image/png": "[encoded data removed]",
            "text/plain": [
              "<Figure size 432x288 with 1 Axes>"
            ]
          },
          "metadata": {}
        }
      ]
    },
    {
      "cell_type": "code",
      "metadata": {
        "colab": {
          "base_uri": "https://localhost:8080/",
          "height": 283
        },
        "id": "6W96AEuoPwq3",
        "outputId": "11ef82f9-6be1-4499-af1b-8243b40700cc"
      },
      "source": [
        "img, label = test_ds[8]\n",
        "plt.imshow(img.permute(1, 2, 0).clamp(0, 1))\n",
        "print('Label:', dataset.classes[label], ', Predicted:', dataset.classes[predict_image(img, model)])"
      ],
      "id": "6W96AEuoPwq3",
      "execution_count": 278,
      "outputs": [
        {
          "output_type": "stream",
          "text": [
            "Label: maleeyes , Predicted: maleeyes\n"
          ],
          "name": "stdout"
        },
        {
          "output_type": "display_data",
          "data": {
            "image/png": "[encoded data removed]",
            "text/plain": [
              "<Figure size 432x288 with 1 Axes>"
            ]
          },
          "metadata": {}
        }
      ]
    },
    {
      "cell_type": "code",
      "metadata": {
        "colab": {
          "base_uri": "https://localhost:8080/",
          "height": 283
        },
        "id": "qCZfqKZJQCy3",
        "outputId": "ebdb0449-b8f4-4720-b157-c5d3d643db5b"
      },
      "source": [
        "img, label = test_ds[17]\n",
        "plt.imshow(img.permute(1, 2, 0).clamp(0, 1))\n",
        "print('Label:', dataset.classes[label], ', Predicted:', dataset.classes[predict_image(img, model)])"
      ],
      "id": "qCZfqKZJQCy3",
      "execution_count": 282,
      "outputs": [
        {
          "output_type": "stream",
          "text": [
            "Label: maleeyes , Predicted: maleeyes\n"
          ],
          "name": "stdout"
        },
        {
          "output_type": "display_data",
          "data": {
            "image/png": "[encoded data removed]",
            "text/plain": [
              "<Figure size 432x288 with 1 Axes>"
            ]
          },
          "metadata": {}
        }
      ]
    },
    {
      "cell_type": "code",
      "metadata": {
        "id": "M4isTlzdQO_C"
      },
      "source": [
        "torch.save(model.state_dict(), 'conv2dModel.pth')"
      ],
      "id": "M4isTlzdQO_C",
      "execution_count": 283,
      "outputs": []
    }
  ]
}